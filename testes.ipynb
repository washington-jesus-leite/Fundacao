{
 "cells": [
  {
   "cell_type": "markdown",
   "id": "93558ccf",
   "metadata": {},
   "source": [
    "## Cria banco de dados em sqlite3"
   ]
  },
  {
   "cell_type": "code",
   "execution_count": 3,
   "id": "45f596ba",
   "metadata": {},
   "outputs": [],
   "source": [
    "import sqlite3\n",
    "\n",
    "# Conectar ao banco de dados (ou criar se não existir)\n",
    "conn = sqlite3.connect('meubanco.db')\n",
    "cursor = conn.cursor()\n",
    "\n",
    "# Criar tabela cadfun\n",
    "cursor.execute('''\n",
    "CREATE TABLE IF NOT EXISTS cadfun (\n",
    "    id INTEGER PRIMARY KEY AUTOINCREMENT,\n",
    "    nome TEXT NOT NULL,\n",
    "    data_admissao DATE,\n",
    "    cargo_id INTEGER,\n",
    "    FOREIGN KEY (cargo_id) REFERENCES cadcargo(id)\n",
    ")\n",
    "''')\n",
    "\n",
    "# Criar tabela cadcargo\n",
    "cursor.execute('''\n",
    "CREATE TABLE IF NOT EXISTS cadcargo (\n",
    "    id INTEGER PRIMARY KEY AUTOINCREMENT,\n",
    "    descricao TEXT NOT NULL\n",
    ")\n",
    "''')\n",
    "\n",
    "# Criar tabela caddesconto\n",
    "cursor.execute('''\n",
    "CREATE TABLE IF NOT EXISTS caddesconto (\n",
    "    id INTEGER PRIMARY KEY AUTOINCREMENT,\n",
    "    descricao TEXT NOT NULL,\n",
    "    valor REAL NOT NULL\n",
    ")\n",
    "''')\n",
    "\n",
    "# Criar tabela cadprovento\n",
    "cursor.execute('''\n",
    "CREATE TABLE IF NOT EXISTS cadprovento (\n",
    "    id INTEGER PRIMARY KEY AUTOINCREMENT,\n",
    "    descricao TEXT NOT NULL,\n",
    "    valor REAL NOT NULL\n",
    ")\n",
    "''')\n",
    "\n",
    "conn.commit()\n",
    "conn.close()"
   ]
  }
 ],
 "metadata": {
  "kernelspec": {
   "display_name": "Python 3",
   "language": "python",
   "name": "python3"
  },
  "language_info": {
   "codemirror_mode": {
    "name": "ipython",
    "version": 3
   },
   "file_extension": ".py",
   "mimetype": "text/x-python",
   "name": "python",
   "nbconvert_exporter": "python",
   "pygments_lexer": "ipython3",
   "version": "3.13.3"
  }
 },
 "nbformat": 4,
 "nbformat_minor": 5
}
