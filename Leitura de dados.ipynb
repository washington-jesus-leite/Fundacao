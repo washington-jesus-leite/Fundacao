{
 "cells": [
  {
   "cell_type": "code",
   "execution_count": 11,
   "id": "ff84f611",
   "metadata": {},
   "outputs": [
    {
     "name": "stdout",
     "output_type": "stream",
     "text": [
      "Tabelas encontradas: [(100, 'INSS'), (110, 'IRRF')]\n"
     ]
    }
   ],
   "source": [
    "import oracledb\n",
    "\n",
    "# Configurações de conexão\n",
    "# 1) Conexão com usuário fundacao\n",
    "conn = oracledb.connect(\n",
    "    user = \"SYS\",\n",
    "    password = \"Not@1943ma\",\n",
    "    dsn = \"localhost:1521/XE\",     # DSN do CDB (container raiz)\n",
    "    mode=oracledb.SYSDBA\n",
    ")\n",
    "cursor = conn.cursor()\n",
    "\n",
    "# Consultando as tabelas do usuário conectado\n",
    "cursor.execute(\"SELECT * FROM DESCONTO\")\n",
    "tabelas = [row for row in cursor.fetchall()]\n",
    "\n",
    "print(\"Tabelas encontradas:\", tabelas)\n",
    "\n",
    "cursor.close()\n",
    "conn.close()"
   ]
  }
 ],
 "metadata": {
  "kernelspec": {
   "display_name": "Python 3",
   "language": "python",
   "name": "python3"
  },
  "language_info": {
   "codemirror_mode": {
    "name": "ipython",
    "version": 3
   },
   "file_extension": ".py",
   "mimetype": "text/x-python",
   "name": "python",
   "nbconvert_exporter": "python",
   "pygments_lexer": "ipython3",
   "version": "3.13.3"
  }
 },
 "nbformat": 4,
 "nbformat_minor": 5
}
