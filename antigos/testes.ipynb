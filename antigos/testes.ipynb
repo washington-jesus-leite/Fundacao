{
 "cells": [
  {
   "cell_type": "markdown",
   "id": "93558ccf",
   "metadata": {},
   "source": [
    "## Cria banco de dados em sqlite3"
   ]
  },
  {
   "cell_type": "code",
   "execution_count": 3,
   "id": "45f596ba",
   "metadata": {},
   "outputs": [],
   "source": [
    "import sqlite3\n",
    "\n",
    "# Conectar ao banco de dados (ou criar se não existir)\n",
    "conn = sqlite3.connect('meubanco.db')\n",
    "cursor = conn.cursor()\n",
    "\n",
    "# Criar tabela cadfun\n",
    "cursor.execute('''\n",
    "CREATE TABLE IF NOT EXISTS cadfun (\n",
    "    id INTEGER PRIMARY KEY AUTOINCREMENT,\n",
    "    nome TEXT NOT NULL,\n",
    "    data_admissao DATE,\n",
    "    cargo_id INTEGER,\n",
    "    FOREIGN KEY (cargo_id) REFERENCES cadcargo(id)\n",
    ")\n",
    "''')\n",
    "\n",
    "# Criar tabela cadcargo\n",
    "cursor.execute('''\n",
    "CREATE TABLE IF NOT EXISTS cadcargo (\n",
    "    id INTEGER PRIMARY KEY AUTOINCREMENT,\n",
    "    descricao TEXT NOT NULL\n",
    ")\n",
    "''')\n",
    "\n",
    "# Criar tabela caddesconto\n",
    "cursor.execute('''\n",
    "CREATE TABLE IF NOT EXISTS caddesconto (\n",
    "    id INTEGER PRIMARY KEY AUTOINCREMENT,\n",
    "    descricao TEXT NOT NULL,\n",
    "    valor REAL NOT NULL\n",
    ")\n",
    "''')\n",
    "\n",
    "# Criar tabela cadprovento\n",
    "cursor.execute('''\n",
    "CREATE TABLE IF NOT EXISTS cadprovento (\n",
    "    id INTEGER PRIMARY KEY AUTOINCREMENT,\n",
    "    descricao TEXT NOT NULL,\n",
    "    valor REAL NOT NULL\n",
    ")\n",
    "''')\n",
    "\n",
    "conn.commit()\n",
    "conn.close()"
   ]
  },
  {
   "cell_type": "code",
   "execution_count": null,
   "id": "7b9bb840",
   "metadata": {},
   "outputs": [
    {
     "name": "stdout",
     "output_type": "stream",
     "text": [
      "Collecting cx_Oracle\n",
      "  Using cached cx_Oracle-8.3.0.tar.gz (363 kB)\n",
      "  Installing build dependencies: started\n",
      "  Installing build dependencies: finished with status 'done'\n",
      "  Getting requirements to build wheel: started\n",
      "  Getting requirements to build wheel: finished with status 'done'\n",
      "  Preparing metadata (pyproject.toml): started\n",
      "  Preparing metadata (pyproject.toml): finished with status 'done'\n",
      "Building wheels for collected packages: cx_Oracle\n",
      "  Building wheel for cx_Oracle (pyproject.toml): started\n",
      "  Building wheel for cx_Oracle (pyproject.toml): finished with status 'error'\n",
      "Failed to build cx_Oracle\n"
     ]
    },
    {
     "name": "stderr",
     "output_type": "stream",
     "text": [
      "  error: subprocess-exited-with-error\n",
      "  \n",
      "  × Building wheel for cx_Oracle (pyproject.toml) did not run successfully.\n",
      "  │ exit code: 1\n",
      "  ╰─> [21 lines of output]\n",
      "      <string>:6: UserWarning: pkg_resources is deprecated as an API. See https://setuptools.pypa.io/en/latest/pkg_resources.html. The pkg_resources package is slated for removal as early as 2025-11-30. Refrain from using this package or pin to Setuptools<81.\n",
      "      C:\\Users\\wjlei\\AppData\\Local\\Temp\\pip-build-env-1d_tpohi\\overlay\\Lib\\site-packages\\setuptools\\config\\expand.py:128: SetuptoolsWarning: File 'C:\\\\Users\\\\wjlei\\\\AppData\\\\Local\\\\Temp\\\\pip-install-m_hbekte\\\\cx-oracle_07a2a88e87034e9ead5307303588ff79\\\\README.md' cannot be found\n",
      "        for path in _filter_existing_files(_filepaths)\n",
      "      C:\\Users\\wjlei\\AppData\\Local\\Temp\\pip-build-env-1d_tpohi\\overlay\\Lib\\site-packages\\setuptools\\dist.py:759: SetuptoolsDeprecationWarning: License classifiers are deprecated.\n",
      "      !!\n",
      "      \n",
      "              ********************************************************************************\n",
      "              Please consider removing the following classifiers in favor of a SPDX license expression:\n",
      "      \n",
      "              License :: OSI Approved :: BSD License\n",
      "      \n",
      "              See https://packaging.python.org/en/latest/guides/writing-pyproject-toml/#license for details.\n",
      "              ********************************************************************************\n",
      "      \n",
      "      !!\n",
      "        self._finalize_license_expression()\n",
      "      running bdist_wheel\n",
      "      running build\n",
      "      running build_ext\n",
      "      building 'cx_Oracle' extension\n",
      "      error: Microsoft Visual C++ 14.0 or greater is required. Get it with \"Microsoft C++ Build Tools\": https://visualstudio.microsoft.com/visual-cpp-build-tools/\n",
      "      [end of output]\n",
      "  \n",
      "  note: This error originates from a subprocess, and is likely not a problem with pip.\n",
      "  ERROR: Failed building wheel for cx_Oracle\n",
      "ERROR: Failed to build installable wheels for some pyproject.toml based projects (cx_Oracle)\n"
     ]
    }
   ],
   "source": [
    "import cx_Oracle\n",
    "\n",
    "# Dados de conexão\n",
    "username = 'SYS'\n",
    "password = 'Not@1943ma'\n",
    "dsn = 'localhost:1521/XE'\n",
    "\n",
    "# Conectando ao Oracle\n",
    "connection = cx_Oracle.connect(username, password, dsn, cx_Oracle.SYSDBA)\n",
    "cursor = connection.cursor()\n"
   ]
  },
  {
   "cell_type": "code",
   "execution_count": 16,
   "id": "7cf3b81e",
   "metadata": {},
   "outputs": [
    {
     "name": "stdout",
     "output_type": "stream",
     "text": [
      "DEPARTAMENTO\n",
      "FUNCIONARIO\n",
      "EXEMPLO\n"
     ]
    }
   ],
   "source": [
    "import cx_Oracle\n",
    "\n",
    "# Dados de conexão\n",
    "username = 'SYS'\n",
    "password = 'Not@1943ma'\n",
    "dsn = 'localhost:1521/XE'\n",
    "\n",
    "# Conectando ao Oracle\n",
    "connection = cx_Oracle.connect(username, password, dsn, cx_Oracle.SYSDBA)\n",
    "cursor = connection.cursor()\n",
    "cursor.execute(\"SELECT table_name FROM user_tables\")\n",
    "tabelas = cursor.fetchall()\n",
    "for tabela in tabelas:\n",
    "    if tabela[0] in ['DEPARTAMENTO', 'FUNCIONARIO', 'EXEMPLO']:\n",
    "        print(tabela[0])\n",
    "\n"
   ]
  },
  {
   "cell_type": "code",
   "execution_count": 17,
   "id": "fd3a8da0",
   "metadata": {},
   "outputs": [
    {
     "ename": "DatabaseError",
     "evalue": "ORA-65005: padrão do nome do arquivo inválido ou não encontrado para o arquivo - C:\\APP\\WJLEI\\PRODUCT\\21C\\ORADATA\\XE\\PDBSEED\\SYSTEM01.DBF",
     "output_type": "error",
     "traceback": [
      "\u001b[31m---------------------------------------------------------------------------\u001b[39m",
      "\u001b[31mDatabaseError\u001b[39m                             Traceback (most recent call last)",
      "\u001b[36mCell\u001b[39m\u001b[36m \u001b[39m\u001b[32mIn[17]\u001b[39m\u001b[32m, line 4\u001b[39m\n\u001b[32m      1\u001b[39m \u001b[38;5;66;03m# Para criar um novo banco de dados (PDB) no Oracle, é necessário ter permissões de DBA.\u001b[39;00m\n\u001b[32m      2\u001b[39m \u001b[38;5;66;03m# Exemplo para criar um novo PDB chamado 'NovoBanco':\u001b[39;00m\n\u001b[32m----> \u001b[39m\u001b[32m4\u001b[39m \u001b[43mcursor\u001b[49m\u001b[43m.\u001b[49m\u001b[43mexecute\u001b[49m\u001b[43m(\u001b[49m\u001b[33;43m\"\"\"\u001b[39;49m\n\u001b[32m      5\u001b[39m \u001b[33;43mCREATE PLUGGABLE DATABASE NovoBanco\u001b[39;49m\n\u001b[32m      6\u001b[39m \u001b[33;43mADMIN USER fundacao_admin IDENTIFIED BY \u001b[39;49m\u001b[33;43m\"\u001b[39;49m\u001b[33;43mSenhaForte123\u001b[39;49m\u001b[33;43m\"\u001b[39;49m\n\u001b[32m      7\u001b[39m \u001b[33;43mROLES = (DBA)\u001b[39;49m\n\u001b[32m      8\u001b[39m \u001b[33;43mDEFAULT TABLESPACE users\u001b[39;49m\n\u001b[32m      9\u001b[39m \u001b[33;43mDATAFILE \u001b[39;49m\u001b[33;43m'\u001b[39;49m\u001b[33;43mnovobanco_users01.dbf\u001b[39;49m\u001b[33;43m'\u001b[39;49m\u001b[33;43m SIZE 250M AUTOEXTEND ON\u001b[39;49m\n\u001b[32m     10\u001b[39m \u001b[33;43mFILE_NAME_CONVERT = (\u001b[39;49m\u001b[33;43m'\u001b[39;49m\u001b[33;43m/opt/oracle/oradata/XE/pdbseed/\u001b[39;49m\u001b[33;43m'\u001b[39;49m\u001b[33;43m, \u001b[39;49m\u001b[33;43m'\u001b[39;49m\u001b[33;43m/opt/oracle/oradata/XE/novobanco/\u001b[39;49m\u001b[33;43m'\u001b[39;49m\u001b[33;43m)\u001b[39;49m\n\u001b[32m     11\u001b[39m \u001b[33;43m\"\"\"\u001b[39;49m\u001b[43m)\u001b[49m\n\u001b[32m     12\u001b[39m \u001b[38;5;28mprint\u001b[39m(\u001b[33m\"\u001b[39m\u001b[33mBanco NovoBanco criado com sucesso.\u001b[39m\u001b[33m\"\u001b[39m)\n",
      "\u001b[31mDatabaseError\u001b[39m: ORA-65005: padrão do nome do arquivo inválido ou não encontrado para o arquivo - C:\\APP\\WJLEI\\PRODUCT\\21C\\ORADATA\\XE\\PDBSEED\\SYSTEM01.DBF"
     ]
    }
   ],
   "source": [
    "# Para criar um novo banco de dados (PDB) no Oracle, é necessário ter permissões de DBA.\n",
    "# Exemplo para criar um novo PDB chamado 'NovoBanco':\n",
    "\n",
    "cursor.execute(\"\"\"\n",
    "CREATE PLUGGABLE DATABASE NovoBanco\n",
    "ADMIN USER fundacao_admin IDENTIFIED BY \"SenhaForte123\"\n",
    "ROLES = (DBA)\n",
    "DEFAULT TABLESPACE users\n",
    "DATAFILE 'novobanco_users01.dbf' SIZE 250M AUTOEXTEND ON\n",
    "FILE_NAME_CONVERT = ('/opt/oracle/oradata/XE/pdbseed/', '/opt/oracle/oradata/XE/novobanco/')\n",
    "\"\"\")\n",
    "print(\"Banco NovoBanco criado com sucesso.\")"
   ]
  },
  {
   "cell_type": "code",
   "execution_count": null,
   "id": "56c97cdc",
   "metadata": {},
   "outputs": [],
   "source": []
  },
  {
   "cell_type": "code",
   "execution_count": null,
   "id": "2d18a880",
   "metadata": {},
   "outputs": [],
   "source": []
  },
  {
   "cell_type": "code",
   "execution_count": 9,
   "id": "0df3984e",
   "metadata": {},
   "outputs": [
    {
     "name": "stdout",
     "output_type": "stream",
     "text": [
      "PDB$SEED\n",
      "XEPDB1\n"
     ]
    }
   ],
   "source": [
    "# Para listar os bancos de dados (no Oracle, chamados de \"pdbs\" em ambientes multitenant)\n",
    "cursor.execute(\"SELECT NAME FROM v$pdbs\")\n",
    "bancos = cursor.fetchall()\n",
    "for banco in bancos:\n",
    "    print(banco[0])"
   ]
  },
  {
   "cell_type": "code",
   "execution_count": 10,
   "id": "92c3698e",
   "metadata": {},
   "outputs": [
    {
     "ename": "DatabaseError",
     "evalue": "ORA-65005: padrão do nome do arquivo inválido ou não encontrado para o arquivo - C:\\APP\\WJLEI\\PRODUCT\\21C\\ORADATA\\XE\\PDBSEED\\SYSTEM01.DBF",
     "output_type": "error",
     "traceback": [
      "\u001b[31m---------------------------------------------------------------------------\u001b[39m",
      "\u001b[31mDatabaseError\u001b[39m                             Traceback (most recent call last)",
      "\u001b[36mCell\u001b[39m\u001b[36m \u001b[39m\u001b[32mIn[10]\u001b[39m\u001b[32m, line 4\u001b[39m\n\u001b[32m      1\u001b[39m \u001b[38;5;66;03m# No Oracle, para criar um novo banco de dados (PDB), é necessário ter permissões de DBA.\u001b[39;00m\n\u001b[32m      2\u001b[39m \u001b[38;5;66;03m# Aqui está um exemplo de como criar um novo PDB chamado 'Fundacao':\u001b[39;00m\n\u001b[32m----> \u001b[39m\u001b[32m4\u001b[39m \u001b[43mcursor\u001b[49m\u001b[43m.\u001b[49m\u001b[43mexecute\u001b[49m\u001b[43m(\u001b[49m\u001b[33;43m\"\"\"\u001b[39;49m\n\u001b[32m      5\u001b[39m \u001b[33;43mCREATE PLUGGABLE DATABASE Fundacao\u001b[39;49m\n\u001b[32m      6\u001b[39m \u001b[33;43mADMIN USER fundacao_admin IDENTIFIED BY \u001b[39;49m\u001b[33;43m\"\u001b[39;49m\u001b[33;43mNot@1943ma\u001b[39;49m\u001b[33;43m\"\u001b[39;49m\n\u001b[32m      7\u001b[39m \u001b[33;43mROLES = (DBA)\u001b[39;49m\n\u001b[32m      8\u001b[39m \u001b[33;43mDEFAULT TABLESPACE users\u001b[39;49m\n\u001b[32m      9\u001b[39m \u001b[33;43mDATAFILE \u001b[39;49m\u001b[33;43m'\u001b[39;49m\u001b[33;43mfundacao_users01.dbf\u001b[39;49m\u001b[33;43m'\u001b[39;49m\u001b[33;43m SIZE 250M AUTOEXTEND ON\u001b[39;49m\n\u001b[32m     10\u001b[39m \u001b[33;43mFILE_NAME_CONVERT = (\u001b[39;49m\u001b[33;43m'\u001b[39;49m\u001b[33;43m/opt/oracle/oradata/XE/pdbseed/\u001b[39;49m\u001b[33;43m'\u001b[39;49m\u001b[33;43m, \u001b[39;49m\u001b[33;43m'\u001b[39;49m\u001b[33;43m/opt/oracle/oradata/XE/fundacao/\u001b[39;49m\u001b[33;43m'\u001b[39;49m\u001b[33;43m)\u001b[39;49m\n\u001b[32m     11\u001b[39m \u001b[33;43m\"\"\"\u001b[39;49m\u001b[43m)\u001b[49m\n\u001b[32m     12\u001b[39m \u001b[38;5;28mprint\u001b[39m(\u001b[33m\"\u001b[39m\u001b[33mBanco Fundacao criado com sucesso.\u001b[39m\u001b[33m\"\u001b[39m)\n",
      "\u001b[31mDatabaseError\u001b[39m: ORA-65005: padrão do nome do arquivo inválido ou não encontrado para o arquivo - C:\\APP\\WJLEI\\PRODUCT\\21C\\ORADATA\\XE\\PDBSEED\\SYSTEM01.DBF"
     ]
    }
   ],
   "source": [
    "# No Oracle, para criar um novo banco de dados (PDB), é necessário ter permissões de DBA.\n",
    "# Aqui está um exemplo de como criar um novo PDB chamado 'Fundacao':\n",
    "\n",
    "cursor.execute(\"\"\"\n",
    "CREATE PLUGGABLE DATABASE Fundacao\n",
    "ADMIN USER fundacao_admin IDENTIFIED BY \"Not@1943ma\"\n",
    "ROLES = (DBA)\n",
    "DEFAULT TABLESPACE users\n",
    "DATAFILE 'fundacao_users01.dbf' SIZE 250M AUTOEXTEND ON\n",
    "FILE_NAME_CONVERT = ('/opt/oracle/oradata/XE/pdbseed/', '/opt/oracle/oradata/XE/fundacao/')\n",
    "\"\"\")\n",
    "print(\"Banco Fundacao criado com sucesso.\")"
   ]
  }
 ],
 "metadata": {
  "kernelspec": {
   "display_name": "Python 3",
   "language": "python",
   "name": "python3"
  },
  "language_info": {
   "codemirror_mode": {
    "name": "ipython",
    "version": 3
   },
   "file_extension": ".py",
   "mimetype": "text/x-python",
   "name": "python",
   "nbconvert_exporter": "python",
   "pygments_lexer": "ipython3",
   "version": "3.13.3"
  }
 },
 "nbformat": 4,
 "nbformat_minor": 5
}
